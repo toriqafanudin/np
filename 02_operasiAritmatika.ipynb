{
 "cells": [
  {
   "cell_type": "code",
   "execution_count": 20,
   "id": "ae590aaf-443e-484b-a694-3169a044b73a",
   "metadata": {},
   "outputs": [
    {
     "name": "stdout",
     "output_type": "stream",
     "text": [
      "[1, 2, 3, 4, 5, 6, 7, 8, 9, 10]\n"
     ]
    }
   ],
   "source": [
    "import numpy as np\n",
    "\n",
    "a = [1, 2, 3, 4, 5]\n",
    "b = [6, 7, 8, 9, 10]\n",
    "\n",
    "hasil = a + b\n",
    "print(hasil)"
   ]
  },
  {
   "cell_type": "code",
   "execution_count": 22,
   "id": "3a109ae3-bbad-4e08-a7fa-65927fde1247",
   "metadata": {},
   "outputs": [
    {
     "name": "stdout",
     "output_type": "stream",
     "text": [
      "a + b = [ 7  9 11 13 15]\n",
      "a - b = [-5 -5 -5 -5 -5]\n",
      "a * b = [ 6 14 24 36 50]\n",
      "a / b = [0.16666667 0.28571429 0.375      0.44444444 0.5       ]\n",
      "a + b = [ 1  4  9 16 25]\n"
     ]
    }
   ],
   "source": [
    "a = np.array([1, 2, 3, 4, 5])\n",
    "b = np.array([6, 7, 8, 9, 10])\n",
    "\n",
    "hasil = a + b\n",
    "print(f'a + b = {hasil}')\n",
    "\n",
    "hasil = a - b\n",
    "print(f'a - b = {hasil}')\n",
    "\n",
    "hasil = a * b\n",
    "print(f'a * b = {hasil}')\n",
    "\n",
    "hasil = a / b\n",
    "print(f'a / b = {hasil}')\n",
    "\n",
    "hasil = a ** 2\n",
    "print(f'a + b = {hasil}')"
   ]
  },
  {
   "cell_type": "code",
   "execution_count": 23,
   "id": "8e251f6d-1319-4530-93c9-dda0ab006a71",
   "metadata": {},
   "outputs": [
    {
     "name": "stdout",
     "output_type": "stream",
     "text": [
      "[[ 6 10 12]\n",
      " [12 10  6]]\n"
     ]
    }
   ],
   "source": [
    "a = np.array([(1, 2, 3), (4, 5, 6)])\n",
    "b = np.array([(6, 5, 4), (3, 2, 1)])\n",
    "\n",
    "hasil = a * b\n",
    "print(hasil)\n",
    "# Kenapa bukan perkalian matrix?"
   ]
  }
 ],
 "metadata": {
  "kernelspec": {
   "display_name": "Python 3 (ipykernel)",
   "language": "python",
   "name": "python3"
  },
  "language_info": {
   "codemirror_mode": {
    "name": "ipython",
    "version": 3
   },
   "file_extension": ".py",
   "mimetype": "text/x-python",
   "name": "python",
   "nbconvert_exporter": "python",
   "pygments_lexer": "ipython3",
   "version": "3.11.5"
  }
 },
 "nbformat": 4,
 "nbformat_minor": 5
}
